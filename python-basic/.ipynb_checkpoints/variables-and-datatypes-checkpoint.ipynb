{
 "cells": [
  {
   "cell_type": "markdown",
   "metadata": {},
   "source": [
    "# Variables and Data Types"
   ]
  },
  {
   "cell_type": "code",
   "execution_count": 21,
   "metadata": {},
   "outputs": [
    {
     "name": "stdout",
     "output_type": "stream",
     "text": [
      "Type: <class 'int'> Value: 10\n"
     ]
    }
   ],
   "source": [
    "# Int\n",
    "a = 10 \n",
    "print(\"Type: {} Value: {}\".format(type(a), a))"
   ]
  },
  {
   "cell_type": "code",
   "execution_count": 22,
   "metadata": {},
   "outputs": [
    {
     "name": "stdout",
     "output_type": "stream",
     "text": [
      "Type: <class 'float'> Value: 10.1\n"
     ]
    }
   ],
   "source": [
    "# Float\n",
    "a = 10.10\n",
    "print(\"Type: {} Value: {}\".format(type(a), a))"
   ]
  },
  {
   "cell_type": "code",
   "execution_count": 23,
   "metadata": {},
   "outputs": [
    {
     "name": "stdout",
     "output_type": "stream",
     "text": [
      "Type: <class 'bool'> Value: True\n"
     ]
    }
   ],
   "source": [
    "# Boolean\n",
    "a = True\n",
    "print(\"Type: {} Value: {}\".format(type(a), a))"
   ]
  },
  {
   "cell_type": "code",
   "execution_count": 2,
   "metadata": {},
   "outputs": [
    {
     "name": "stdout",
     "output_type": "stream",
     "text": [
      "Type: <class 'list'> Value: [10, 20, 20, 30]\n"
     ]
    }
   ],
   "source": [
    "# List\n",
    "a = [10,20,20,30]\n",
    "print(\"Type: {} Value: {}\".format(type(a), a))"
   ]
  },
  {
   "cell_type": "code",
   "execution_count": 25,
   "metadata": {},
   "outputs": [
    {
     "name": "stdout",
     "output_type": "stream",
     "text": [
      "Type: <class 'str'> Value: Hello world\n"
     ]
    }
   ],
   "source": [
    "# String\n",
    "a = \"Hello world\"\n",
    "print(\"Type: {} Value: {}\".format(type(a), a))"
   ]
  },
  {
   "cell_type": "code",
   "execution_count": 26,
   "metadata": {},
   "outputs": [
    {
     "name": "stdout",
     "output_type": "stream",
     "text": [
      "Type: <class 'tuple'> Value: (10, 20)\n"
     ]
    }
   ],
   "source": [
    "# Tuples\n",
    "a = (10, 20)\n",
    "print(\"Type: {} Value: {}\".format(type(a), a))"
   ]
  },
  {
   "cell_type": "code",
   "execution_count": 27,
   "metadata": {},
   "outputs": [
    {
     "name": "stdout",
     "output_type": "stream",
     "text": [
      "Type: <class 'dict'> Value: {'a': 10}\n"
     ]
    }
   ],
   "source": [
    "# Dictionary\n",
    "a = {\"a\": 10}\n",
    "print(\"Type: {} Value: {}\".format(type(a), a))"
   ]
  },
  {
   "cell_type": "code",
   "execution_count": null,
   "metadata": {},
   "outputs": [],
   "source": []
  }
 ],
 "metadata": {
  "kernelspec": {
   "display_name": "Python 3",
   "language": "python",
   "name": "python3"
  },
  "language_info": {
   "codemirror_mode": {
    "name": "ipython",
    "version": 3
   },
   "file_extension": ".py",
   "mimetype": "text/x-python",
   "name": "python",
   "nbconvert_exporter": "python",
   "pygments_lexer": "ipython3",
   "version": "3.7.4"
  }
 },
 "nbformat": 4,
 "nbformat_minor": 2
}
