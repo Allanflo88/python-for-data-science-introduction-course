{
 "cells": [
  {
   "cell_type": "markdown",
   "metadata": {},
   "source": [
    "# Object oriented programming"
   ]
  },
  {
   "cell_type": "markdown",
   "metadata": {},
   "source": [
    "### Classes and Objects"
   ]
  },
  {
   "cell_type": "code",
   "execution_count": 5,
   "metadata": {},
   "outputs": [],
   "source": [
    "# Class definition\n",
    "\n",
    "class Car():\n",
    "    def __init__(self):\n",
    "        pass"
   ]
  },
  {
   "cell_type": "code",
   "execution_count": 9,
   "metadata": {},
   "outputs": [
    {
     "data": {
      "text/plain": [
       "__main__.Car"
      ]
     },
     "execution_count": 9,
     "metadata": {},
     "output_type": "execute_result"
    }
   ],
   "source": [
    "# Class instance\n",
    "\n",
    "car = Car()\n",
    "type(car)"
   ]
  },
  {
   "cell_type": "code",
   "execution_count": 15,
   "metadata": {},
   "outputs": [
    {
     "name": "stdout",
     "output_type": "stream",
     "text": [
      "black\n",
      "2019\n",
      "SUV\n"
     ]
    }
   ],
   "source": [
    "# Attributes\n",
    "\n",
    "class Car():\n",
    "    def __init__(self, year, color='black'):\n",
    "        self.color = color\n",
    "        self.year = year\n",
    "        self.type = \"SUV\"\n",
    "\n",
    "car = Car(2019)\n",
    "print(car.color)\n",
    "print(car.year)\n",
    "print(car.type)"
   ]
  },
  {
   "cell_type": "code",
   "execution_count": 18,
   "metadata": {},
   "outputs": [
    {
     "data": {
      "text/plain": [
       "100"
      ]
     },
     "execution_count": 18,
     "metadata": {},
     "output_type": "execute_result"
    }
   ],
   "source": [
    "# Methods\n",
    "\n",
    "class Car():\n",
    "    def __init__(self, year, color='black'):\n",
    "        self.color = color\n",
    "        self.year = year\n",
    "        self.type = \"SUV\"\n",
    "        self.km = 0\n",
    "    def drive(self,km):\n",
    "        self.km += km\n",
    "\n",
    "car = Car(2019)\n",
    "car.drive(100)\n",
    "car.km"
   ]
  },
  {
   "cell_type": "markdown",
   "metadata": {},
   "source": [
    "### Inheritance"
   ]
  },
  {
   "cell_type": "code",
   "execution_count": 25,
   "metadata": {},
   "outputs": [
    {
     "name": "stdout",
     "output_type": "stream",
     "text": [
      "black\n",
      "284\n"
     ]
    }
   ],
   "source": [
    "# Parent class\n",
    "class Car():\n",
    "    def __init__(self, year, color='black'):\n",
    "        self.color = color\n",
    "        self.year = year\n",
    "        self.km = 0\n",
    "    def drive(self,km):\n",
    "        self.km += km\n",
    "        \n",
    "class ElectricCar(Car):\n",
    "    def __init(self, mah):\n",
    "        self.super()\n",
    "        self.mah = mah\n",
    "        \n",
    "ElectricCar(2019,1000000)\n",
    "print(car.color)\n",
    "car.drive(100)\n",
    "car.drive(4)\n",
    "car.drive(80)\n",
    "print(car.km)   "
   ]
  },
  {
   "cell_type": "markdown",
   "metadata": {},
   "source": [
    "### Encapsulation"
   ]
  },
  {
   "cell_type": "code",
   "execution_count": 7,
   "metadata": {},
   "outputs": [
    {
     "ename": "TypeError",
     "evalue": "'int' object is not callable",
     "output_type": "error",
     "traceback": [
      "\u001b[1;31m---------------------------------------------------------------------------\u001b[0m",
      "\u001b[1;31mTypeError\u001b[0m                                 Traceback (most recent call last)",
      "\u001b[1;32m<ipython-input-7-b85d013b6257>\u001b[0m in \u001b[0;36m<module>\u001b[1;34m\u001b[0m\n\u001b[0;32m     14\u001b[0m \u001b[1;33m\u001b[0m\u001b[0m\n\u001b[0;32m     15\u001b[0m \u001b[0mcar\u001b[0m \u001b[1;33m=\u001b[0m \u001b[0mCar\u001b[0m\u001b[1;33m(\u001b[0m\u001b[1;36m2019\u001b[0m\u001b[1;33m)\u001b[0m\u001b[1;33m\u001b[0m\u001b[1;33m\u001b[0m\u001b[0m\n\u001b[1;32m---> 16\u001b[1;33m \u001b[0mcar\u001b[0m\u001b[1;33m.\u001b[0m\u001b[0mdrive\u001b[0m\u001b[1;33m(\u001b[0m\u001b[1;36m160\u001b[0m\u001b[1;33m)\u001b[0m\u001b[1;33m\u001b[0m\u001b[1;33m\u001b[0m\u001b[0m\n\u001b[0m\u001b[0;32m     17\u001b[0m \u001b[0mprint\u001b[0m\u001b[1;33m(\u001b[0m\u001b[0mcar\u001b[0m\u001b[1;33m.\u001b[0m\u001b[0mgetKm\u001b[0m\u001b[1;33m(\u001b[0m\u001b[1;33m)\u001b[0m\u001b[1;33m)\u001b[0m\u001b[1;33m\u001b[0m\u001b[1;33m\u001b[0m\u001b[0m\n\u001b[0;32m     18\u001b[0m \u001b[0mprint\u001b[0m\u001b[1;33m(\u001b[0m\u001b[0mcar\u001b[0m\u001b[1;33m.\u001b[0m\u001b[0mkm\u001b[0m\u001b[1;33m)\u001b[0m\u001b[1;33m\u001b[0m\u001b[1;33m\u001b[0m\u001b[0m\n",
      "\u001b[1;31mTypeError\u001b[0m: 'int' object is not callable"
     ]
    }
   ],
   "source": [
    "class Car():\n",
    "    def __init__(self, year, color='black'):\n",
    "        self.color = color\n",
    "        self.year = year\n",
    "        self._km = 0\n",
    "    \n",
    "    @property\n",
    "    def km(self):\n",
    "        return self._km\n",
    "    \n",
    "    @km.setter\n",
    "    def drive(self,km):\n",
    "        self._km += km\n",
    "    \n",
    "car = Car(2019)\n",
    "car.drive(160)\n",
    "print(car.getKm())\n",
    "print(car.km)"
   ]
  },
  {
   "cell_type": "markdown",
   "metadata": {},
   "source": [
    "### Abstract class"
   ]
  },
  {
   "cell_type": "code",
   "execution_count": 8,
   "metadata": {},
   "outputs": [
    {
     "name": "stdout",
     "output_type": "stream",
     "text": [
      "250.0\n",
      "666.6666666666666\n"
     ]
    }
   ],
   "source": [
    "from abc import ABC, abstractmethod\n",
    "\n",
    "class Employee(ABC):\n",
    "    def __init__(self, name, salary):\n",
    "        self.name = name\n",
    "        self.salary = salary\n",
    "    \n",
    "    @abstractmethod\n",
    "    def bonus(self):\n",
    "        pass\n",
    "    \n",
    "class Operator(Employee):\n",
    "    def bonus(self):\n",
    "        return self.salary / 4\n",
    "    \n",
    "class Manager(Employee):\n",
    "    def bonus(self):\n",
    "        return self.salary / 3\n",
    "    \n",
    "operator = Operator(\"Maycon\", 1000)\n",
    "manager = Manager(\"João\", 2000)\n",
    "\n",
    "print(operator.bonus())\n",
    "print(manager.bonus())"
   ]
  },
  {
   "cell_type": "code",
   "execution_count": null,
   "metadata": {},
   "outputs": [],
   "source": []
  }
 ],
 "metadata": {
  "kernelspec": {
   "display_name": "Python 3",
   "language": "python",
   "name": "python3"
  },
  "language_info": {
   "codemirror_mode": {
    "name": "ipython",
    "version": 3
   },
   "file_extension": ".py",
   "mimetype": "text/x-python",
   "name": "python",
   "nbconvert_exporter": "python",
   "pygments_lexer": "ipython3",
   "version": "3.7.4"
  }
 },
 "nbformat": 4,
 "nbformat_minor": 2
}
