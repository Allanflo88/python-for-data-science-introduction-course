{
 "cells": [
  {
   "cell_type": "markdown",
   "metadata": {},
   "source": [
    "# Numpy lib"
   ]
  },
  {
   "cell_type": "code",
   "execution_count": null,
   "metadata": {},
   "outputs": [],
   "source": [
    "import numpy as np"
   ]
  },
  {
   "cell_type": "markdown",
   "metadata": {},
   "source": [
    "## Creating arrays from lists"
   ]
  },
  {
   "cell_type": "code",
   "execution_count": null,
   "metadata": {},
   "outputs": [],
   "source": [
    "lista = [1, 2, 3]"
   ]
  },
  {
   "cell_type": "code",
   "execution_count": null,
   "metadata": {},
   "outputs": [],
   "source": [
    "lista"
   ]
  },
  {
   "cell_type": "code",
   "execution_count": null,
   "metadata": {},
   "outputs": [],
   "source": [
    "np.array(lista)"
   ]
  },
  {
   "cell_type": "markdown",
   "metadata": {},
   "source": [
    "## Creating matrices from lists"
   ]
  },
  {
   "cell_type": "code",
   "execution_count": null,
   "metadata": {},
   "outputs": [],
   "source": [
    "matriz = [[1, 2, 3], [4, 5, 6], [7, 8, 9]]"
   ]
  },
  {
   "cell_type": "code",
   "execution_count": null,
   "metadata": {},
   "outputs": [],
   "source": [
    "matriz"
   ]
  },
  {
   "cell_type": "code",
   "execution_count": null,
   "metadata": {},
   "outputs": [],
   "source": [
    "np.array(matriz)"
   ]
  },
  {
   "cell_type": "markdown",
   "metadata": {},
   "source": [
    "## Main methods from numpy"
   ]
  },
  {
   "cell_type": "markdown",
   "metadata": {},
   "source": [
    "### Method: **arange()**\n",
    "\n",
    "Similar to Python range function, however returns an array"
   ]
  },
  {
   "cell_type": "code",
   "execution_count": null,
   "metadata": {},
   "outputs": [],
   "source": [
    "np.arange(0, 10)"
   ]
  },
  {
   "cell_type": "code",
   "execution_count": null,
   "metadata": {},
   "outputs": [],
   "source": [
    "np.arange(0, 10, 2)"
   ]
  },
  {
   "cell_type": "code",
   "execution_count": null,
   "metadata": {},
   "outputs": [],
   "source": [
    "np.arange(0, 100, 10)"
   ]
  },
  {
   "cell_type": "markdown",
   "metadata": {},
   "source": [
    "### Method: zeros()\n",
    "\n",
    "Return a matrix filled with zeros"
   ]
  },
  {
   "cell_type": "code",
   "execution_count": null,
   "metadata": {},
   "outputs": [],
   "source": [
    "np.zeros(3)"
   ]
  },
  {
   "cell_type": "code",
   "execution_count": null,
   "metadata": {},
   "outputs": [],
   "source": [
    "np.zeros((3, 3))"
   ]
  },
  {
   "cell_type": "markdown",
   "metadata": {},
   "source": [
    "Default type is Float, can be changed with **dtype** parameter"
   ]
  },
  {
   "cell_type": "code",
   "execution_count": null,
   "metadata": {},
   "outputs": [],
   "source": [
    "np.zeros(3, dtype=int)"
   ]
  },
  {
   "cell_type": "markdown",
   "metadata": {},
   "source": [
    "### Method: ones()\n",
    "\n",
    "Same as zeros, but filled with 1"
   ]
  },
  {
   "cell_type": "code",
   "execution_count": null,
   "metadata": {},
   "outputs": [],
   "source": [
    "np.ones(3)"
   ]
  },
  {
   "cell_type": "code",
   "execution_count": null,
   "metadata": {},
   "outputs": [],
   "source": [
    "np.ones(3, dtype=int)"
   ]
  },
  {
   "cell_type": "code",
   "execution_count": null,
   "metadata": {},
   "outputs": [],
   "source": [
    "np.ones((3, 2), dtype=int)"
   ]
  },
  {
   "cell_type": "markdown",
   "metadata": {},
   "source": [
    "### Method: eye()\n",
    "\n",
    "Returns **identity matrix**"
   ]
  },
  {
   "cell_type": "code",
   "execution_count": null,
   "metadata": {},
   "outputs": [],
   "source": [
    "np.eye(3)"
   ]
  },
  {
   "cell_type": "code",
   "execution_count": null,
   "metadata": {
    "scrolled": true
   },
   "outputs": [],
   "source": [
    "np.eye(5, dtype=int)"
   ]
  },
  {
   "cell_type": "markdown",
   "metadata": {},
   "source": [
    "### Method: rand()\n",
    "\n",
    "Return a matrix, filled with random numbers (0-1) following a uniform distribution"
   ]
  },
  {
   "cell_type": "code",
   "execution_count": null,
   "metadata": {},
   "outputs": [],
   "source": [
    "np.random.rand(5)"
   ]
  },
  {
   "cell_type": "code",
   "execution_count": null,
   "metadata": {},
   "outputs": [],
   "source": [
    "np.random.rand(5, 3)"
   ]
  },
  {
   "cell_type": "markdown",
   "metadata": {},
   "source": [
    "### Method: randn()\n",
    "\n",
    "Same as rand(), but followin a nomrla distribution"
   ]
  },
  {
   "cell_type": "code",
   "execution_count": null,
   "metadata": {},
   "outputs": [],
   "source": [
    "np.random.randn(5)"
   ]
  },
  {
   "cell_type": "code",
   "execution_count": null,
   "metadata": {},
   "outputs": [],
   "source": [
    "np.random.randn(3, 4)"
   ]
  },
  {
   "cell_type": "markdown",
   "metadata": {},
   "source": [
    "### Method: randint()\n",
    "\n",
    "Same as rand(), but returns only int numbers"
   ]
  },
  {
   "cell_type": "code",
   "execution_count": null,
   "metadata": {},
   "outputs": [],
   "source": [
    "np.random.randint(1, 10)"
   ]
  },
  {
   "cell_type": "code",
   "execution_count": null,
   "metadata": {},
   "outputs": [],
   "source": [
    "np.random.randint(1, 100, 15)"
   ]
  },
  {
   "cell_type": "markdown",
   "metadata": {},
   "source": [
    "## Methods and attributes from Array Object"
   ]
  },
  {
   "cell_type": "markdown",
   "metadata": {},
   "source": [
    "### Method: reshape()\n",
    "\n",
    "Gives a new shape to an array without changing its data."
   ]
  },
  {
   "cell_type": "code",
   "execution_count": null,
   "metadata": {},
   "outputs": [],
   "source": [
    "myarray = np.random.rand(10)"
   ]
  },
  {
   "cell_type": "code",
   "execution_count": null,
   "metadata": {},
   "outputs": [],
   "source": [
    "myarray"
   ]
  },
  {
   "cell_type": "code",
   "execution_count": null,
   "metadata": {},
   "outputs": [],
   "source": [
    "myarray.reshape(2, 5)"
   ]
  },
  {
   "cell_type": "code",
   "execution_count": null,
   "metadata": {},
   "outputs": [],
   "source": [
    "myarray.reshape(5, 2)"
   ]
  },
  {
   "cell_type": "code",
   "execution_count": null,
   "metadata": {},
   "outputs": [],
   "source": [
    "myarray.reshape(2, 5).reshape(10)"
   ]
  },
  {
   "cell_type": "markdown",
   "metadata": {},
   "source": [
    "### Method: max()\n",
    "\n",
    "Maximum value from array"
   ]
  },
  {
   "cell_type": "code",
   "execution_count": null,
   "metadata": {},
   "outputs": [],
   "source": [
    "myarray.max()"
   ]
  },
  {
   "cell_type": "markdown",
   "metadata": {},
   "source": [
    "### Method: argmax()\n",
    "\n",
    "Index of maxaximum value"
   ]
  },
  {
   "cell_type": "code",
   "execution_count": null,
   "metadata": {},
   "outputs": [],
   "source": [
    "myarray.argmax()"
   ]
  },
  {
   "cell_type": "code",
   "execution_count": null,
   "metadata": {},
   "outputs": [],
   "source": [
    "myarray[2]"
   ]
  },
  {
   "cell_type": "markdown",
   "metadata": {},
   "source": [
    "### Method: min()\n",
    "\n",
    "Minimum value from array"
   ]
  },
  {
   "cell_type": "code",
   "execution_count": null,
   "metadata": {},
   "outputs": [],
   "source": [
    "myarray.min()"
   ]
  },
  {
   "cell_type": "markdown",
   "metadata": {},
   "source": [
    "### Method: argmin()\n",
    "\n",
    "Index of minimum value"
   ]
  },
  {
   "cell_type": "code",
   "execution_count": null,
   "metadata": {},
   "outputs": [],
   "source": [
    "myarray.argmin()"
   ]
  },
  {
   "cell_type": "code",
   "execution_count": null,
   "metadata": {},
   "outputs": [],
   "source": [
    "myarray[6]"
   ]
  },
  {
   "cell_type": "markdown",
   "metadata": {},
   "source": [
    "### Attribute: shape\n",
    "\n",
    "Returns array format"
   ]
  },
  {
   "cell_type": "code",
   "execution_count": null,
   "metadata": {},
   "outputs": [],
   "source": [
    "myarray.shape"
   ]
  },
  {
   "cell_type": "code",
   "execution_count": null,
   "metadata": {},
   "outputs": [],
   "source": [
    "a = np.random.rand(3, 4)"
   ]
  },
  {
   "cell_type": "code",
   "execution_count": null,
   "metadata": {},
   "outputs": [],
   "source": [
    "a"
   ]
  },
  {
   "cell_type": "code",
   "execution_count": null,
   "metadata": {},
   "outputs": [],
   "source": [
    "a.shape"
   ]
  },
  {
   "cell_type": "code",
   "execution_count": null,
   "metadata": {},
   "outputs": [],
   "source": [
    "a = a.reshape(2, 6)"
   ]
  },
  {
   "cell_type": "code",
   "execution_count": null,
   "metadata": {},
   "outputs": [],
   "source": [
    "a"
   ]
  },
  {
   "cell_type": "code",
   "execution_count": null,
   "metadata": {},
   "outputs": [],
   "source": [
    "a.shape"
   ]
  },
  {
   "cell_type": "markdown",
   "metadata": {},
   "source": [
    "### Method: mean()\n",
    "\n",
    "Return simple arithmetic mean of array"
   ]
  },
  {
   "cell_type": "code",
   "execution_count": null,
   "metadata": {},
   "outputs": [],
   "source": [
    "a = np.array([1, 2, 3, 4])"
   ]
  },
  {
   "cell_type": "code",
   "execution_count": null,
   "metadata": {},
   "outputs": [],
   "source": [
    "a.mean()"
   ]
  },
  {
   "cell_type": "code",
   "execution_count": null,
   "metadata": {},
   "outputs": [],
   "source": [
    "a = np.array([[[1, 2], [3, 4], [5, 6]]])"
   ]
  },
  {
   "cell_type": "code",
   "execution_count": null,
   "metadata": {},
   "outputs": [],
   "source": [
    "a.mean()"
   ]
  },
  {
   "cell_type": "markdown",
   "metadata": {},
   "source": [
    "### Método: std()\n",
    "\n",
    "Return array standard deviation"
   ]
  },
  {
   "cell_type": "code",
   "execution_count": null,
   "metadata": {},
   "outputs": [],
   "source": [
    "a = np.array([1, 2, 3, 4])"
   ]
  },
  {
   "cell_type": "code",
   "execution_count": null,
   "metadata": {},
   "outputs": [],
   "source": [
    "a.std()"
   ]
  },
  {
   "cell_type": "code",
   "execution_count": null,
   "metadata": {},
   "outputs": [],
   "source": [
    "a = np.array([[[1, 2], [3, 4], [99, 777]]])"
   ]
  },
  {
   "cell_type": "code",
   "execution_count": null,
   "metadata": {},
   "outputs": [],
   "source": [
    "a.std()"
   ]
  },
  {
   "cell_type": "markdown",
   "metadata": {},
   "source": [
    "### Method: sum()"
   ]
  },
  {
   "cell_type": "code",
   "execution_count": null,
   "metadata": {},
   "outputs": [],
   "source": [
    "a = np.array([1, 2, 3, 4])"
   ]
  },
  {
   "cell_type": "code",
   "execution_count": null,
   "metadata": {},
   "outputs": [],
   "source": [
    "a.sum()"
   ]
  },
  {
   "cell_type": "code",
   "execution_count": null,
   "metadata": {},
   "outputs": [],
   "source": [
    "a = np.array([[[1, 2], [3, 4], [99, 777]]])\n",
    "a"
   ]
  },
  {
   "cell_type": "code",
   "execution_count": null,
   "metadata": {},
   "outputs": [],
   "source": [
    "a.sum()"
   ]
  },
  {
   "cell_type": "code",
   "execution_count": null,
   "metadata": {},
   "outputs": [],
   "source": [
    "a.sum(axis=1)"
   ]
  },
  {
   "cell_type": "code",
   "execution_count": null,
   "metadata": {},
   "outputs": [],
   "source": [
    "a.sum(axis=2)"
   ]
  },
  {
   "cell_type": "markdown",
   "metadata": {},
   "source": [
    "### Insert elements into a one-dimensional Array"
   ]
  },
  {
   "cell_type": "code",
   "execution_count": null,
   "metadata": {},
   "outputs": [],
   "source": [
    "arr = np.array([1, 2, 3, 5, 6, 7, 8])\n",
    "arr"
   ]
  },
  {
   "cell_type": "code",
   "execution_count": null,
   "metadata": {},
   "outputs": [],
   "source": [
    "np.insert(arr, 3, 4)"
   ]
  },
  {
   "cell_type": "code",
   "execution_count": null,
   "metadata": {},
   "outputs": [],
   "source": [
    "np.insert(arr, 3, [99, 98, 88, 55])"
   ]
  },
  {
   "cell_type": "code",
   "execution_count": null,
   "metadata": {},
   "outputs": [],
   "source": [
    "np.insert(arr, (3, 6), [88, 55])"
   ]
  },
  {
   "cell_type": "markdown",
   "metadata": {},
   "source": [
    "### Insert elements into a two-dimensional Array"
   ]
  },
  {
   "cell_type": "code",
   "execution_count": null,
   "metadata": {},
   "outputs": [],
   "source": [
    "arr = np.arange(12).reshape(3, 4)\n",
    "arr"
   ]
  },
  {
   "cell_type": "code",
   "execution_count": null,
   "metadata": {},
   "outputs": [],
   "source": [
    "np.insert(arr, [1], [[6],[9],], axis = 0)"
   ]
  },
  {
   "cell_type": "code",
   "execution_count": null,
   "metadata": {},
   "outputs": [],
   "source": [
    "np.insert(arr, [1], [[8],[7],[9]], axis = 1)"
   ]
  },
  {
   "cell_type": "code",
   "execution_count": null,
   "metadata": {},
   "outputs": [],
   "source": [
    "arr = np.arange(6).reshape(2, 3)\n",
    "arr"
   ]
  },
  {
   "cell_type": "code",
   "execution_count": null,
   "metadata": {},
   "outputs": [],
   "source": [
    "np.insert(arr, (2, 4), 9)"
   ]
  },
  {
   "cell_type": "code",
   "execution_count": null,
   "metadata": {},
   "outputs": [],
   "source": [
    "arr = np.arange(12).reshape(3, 4)\n",
    "arr"
   ]
  },
  {
   "cell_type": "code",
   "execution_count": null,
   "metadata": {},
   "outputs": [],
   "source": [
    "np.insert(arr, (0, 3), 66, axis = 1)"
   ]
  },
  {
   "cell_type": "markdown",
   "metadata": {},
   "source": [
    "### Delete elements into a one-dimensional Array"
   ]
  },
  {
   "cell_type": "code",
   "execution_count": null,
   "metadata": {},
   "outputs": [],
   "source": [
    "arr = np.array([1, 2, 3, 4, 5, 6, 7, 8])\n",
    "arr"
   ]
  },
  {
   "cell_type": "code",
   "execution_count": null,
   "metadata": {},
   "outputs": [],
   "source": [
    "np.delete(arr, 3)"
   ]
  },
  {
   "cell_type": "code",
   "execution_count": null,
   "metadata": {},
   "outputs": [],
   "source": [
    "np.delete(arr, np.s_[2:4])"
   ]
  },
  {
   "cell_type": "markdown",
   "metadata": {},
   "source": [
    "### Delete elements into a two-dimensional Array"
   ]
  },
  {
   "cell_type": "code",
   "execution_count": null,
   "metadata": {},
   "outputs": [],
   "source": [
    "arr = np.array([[1,2,3,4], [5,6,7,8], [9,10,11,12]])\n",
    "arr"
   ]
  },
  {
   "cell_type": "code",
   "execution_count": null,
   "metadata": {
    "scrolled": true
   },
   "outputs": [],
   "source": [
    "np.delete(arr, 2, 1)"
   ]
  },
  {
   "cell_type": "code",
   "execution_count": null,
   "metadata": {},
   "outputs": [],
   "source": [
    "np.delete(arr, 1, 0)"
   ]
  },
  {
   "cell_type": "code",
   "execution_count": null,
   "metadata": {},
   "outputs": [],
   "source": [
    "np.delete(arr, np.s_[1:], 0)"
   ]
  },
  {
   "cell_type": "code",
   "execution_count": null,
   "metadata": {},
   "outputs": [],
   "source": [
    "np.delete(arr, np.s_[1:3], 1)"
   ]
  },
  {
   "cell_type": "markdown",
   "metadata": {},
   "source": [
    "### Mathematic functions:\n",
    "\n",
    "|Função|Descrição\n",
    "|---|---|\n",
    "add(x1, x2, /[, out, where, casting, order, …])|Add arguments element-wise.\n",
    "subtract(x1, x2, /[, out, where, casting, …])|Subtract arguments, element-wise.\n",
    "multiply(x1, x2, /[, out, where, casting, …])|Multiply arguments element-wise.\n",
    "divide(x1, x2, /[, out, where, casting, …])|Returns a true division of the inputs, element-wise.\n",
    "logaddexp(x1, x2, /[, out, where, casting, …])|Logarithm of the sum of exponentiations of the inputs.\n",
    "logaddexp2(x1, x2, /[, out, where, casting, …])|Logarithm of the sum of exponentiations of the inputs in base-2.\n",
    "true_divide(x1, x2, /[, out, where, …])|Returns a true division of the inputs, element-wise.\n",
    "floor_divide(x1, x2, /[, out, where, …])|Return the largest integer smaller or equal to the division of the inputs.\n",
    "negative(x, /[, out, where, casting, order, …])|Numerical negative, element-wise.\n",
    "positive(x, /[, out, where, casting, order, …])|Numerical positive, element-wise.\n",
    "power(x1, x2, /[, out, where, casting, …])|First array elements raised to powers from second array, element-wise.\n",
    "remainder(x1, x2, /[, out, where, casting, …])|Return element-wise remainder of division.\n",
    "mod(x1, x2, /[, out, where, casting, order, …])|Return element-wise remainder of division.\n",
    "fmod(x1, x2, /[, out, where, casting, …])|Return the element-wise remainder of division.\n",
    "divmod(x1, x2[, out1, out2], / [[, out, …])|Return element-wise quotient and remainder simultaneously.\n",
    "absolute(x, /[, out, where, casting, order, …])|Calculate the absolute value element-wise.\n",
    "fabs(x, /[, out, where, casting, order, …])|Compute the absolute values element-wise.\n",
    "rint(x, /[, out, where, casting, order, …])|Round elements of the array to the nearest integer.\n",
    "sign(x, /[, out, where, casting, order, …])|Returns an element-wise indication of the sign of a number.\n",
    "heaviside(x1, x2, /[, out, where, casting, …])|Compute the Heaviside step function.\n",
    "conj(x, /[, out, where, casting, order, …])|Return the complex conjugate, element-wise.\n",
    "exp(x, /[, out, where, casting, order, …])|Calculate the exponential of all elements in the input array.\n",
    "exp2(x, /[, out, where, casting, order, …])|Calculate 2**p for all p in the input array.\n",
    "log(x, /[, out, where, casting, order, …])|Natural logarithm, element-wise.\n",
    "log2(x, /[, out, where, casting, order, …])|Base-2 logarithm of x.\n",
    "log10(x, /[, out, where, casting, order, …])|Return the base 10 logarithm of the input array, element-wise.\n",
    "expm1(x, /[, out, where, casting, order, …])|Calculate exp(x) - 1 for all elements in the array.\n",
    "log1p(x, /[, out, where, casting, order, …])|Return the natural logarithm of one plus the input array, element-wise.\n",
    "sqrt(x, /[, out, where, casting, order, …])|Return the non-negative square-root of an array, element-wise.\n",
    "square(x, /[, out, where, casting, order, …])|Return the element-wise square of the input.\n",
    "cbrt(x, /[, out, where, casting, order, …])|Return the cube-root of an array, element-wise.\n",
    "reciprocal(x, /[, out, where, casting, …])|Return the reciprocal of the argument, element-wise.\n",
    "gcd(x1, x2, /[, out, where, casting, order, …])|Returns the greatest common divisor of |x1| and |x2|\n",
    "lcm(x1, x2, /[, out, where, casting, order, …])|Returns the lowest common multiple of |x1| and |x2|\n",
    "\n",
    "\n",
    "### Trignometric functions:\n",
    "\n",
    "|Função|Descrição\n",
    "|---|---|\n",
    "sin(x, /[, out, where, casting, order, …])|Trigonometric sine, element-wise.\n",
    "cos(x, /[, out, where, casting, order, …])|Cosine element-wise.\n",
    "tan(x, /[, out, where, casting, order, …])|Compute tangent element-wise.\n",
    "arcsin(x, /[, out, where, casting, order, …])|Inverse sine, element-wise.\n",
    "arccos(x, /[, out, where, casting, order, …])|Trigonometric inverse cosine, element-wise.\n",
    "arctan(x, /[, out, where, casting, order, …])|Trigonometric inverse tangent, element-wise.\n",
    "arctan2(x1, x2, /[, out, where, casting, …])|Element-wise arc tangent of x1/x2 choosing the quadrant correctly.\n",
    "hypot(x1, x2, /[, out, where, casting, …])|Given the “legs” of a right triangle, return its hypotenuse.\n",
    "sinh(x, /[, out, where, casting, order, …])|Hyperbolic sine, element-wise.\n",
    "cosh(x, /[, out, where, casting, order, …])|Hyperbolic cosine, element-wise.\n",
    "tanh(x, /[, out, where, casting, order, …])|Compute hyperbolic tangent element-wise.\n",
    "arcsinh(x, /[, out, where, casting, order, …])|Inverse hyperbolic sine element-wise.\n",
    "arccosh(x, /[, out, where, casting, order, …])|Inverse hyperbolic cosine, element-wise.\n",
    "arctanh(x, /[, out, where, casting, order, …])|Inverse hyperbolic tangent element-wise.\n",
    "deg2rad(x, /[, out, where, casting, order, …])|Convert angles from degrees to radians.\n",
    "rad2deg(x, /[, out, where, casting, order, …])|Convert angles from radians to degrees.\n",
    "\n",
    "### Binary functions:\n",
    "\n",
    "|Função|Descrição\n",
    "|---|---|\n",
    "bitwise_and(x1, x2, /[, out, where, …])|Compute the bit-wise AND of two arrays element-wise.\n",
    "bitwise_or(x1, x2, /[, out, where, casting, …])|Compute the bit-wise OR of two arrays element-wise.\n",
    "bitwise_xor(x1, x2, /[, out, where, …])|Compute the bit-wise XOR of two arrays element-wise.\n",
    "invert(x, /[, out, where, casting, order, …])|Compute bit-wise inversion, or bit-wise NOT, element-wise.\n",
    "left_shift(x1, x2, /[, out, where, casting, …])|Shift the bits of an integer to the left.\n",
    "right_shift(x1, x2, /[, out, where, …])|Shift the bits of an integer to the right.\n",
    "\n",
    "### Comparison functions:\n",
    "\n",
    "|Função|Descrição\n",
    "|---|---|\n",
    "greater(x1, x2, /[, out, where, casting, …])|Return the truth value of (x1 > x2) element-wise.\n",
    "greater_equal(x1, x2, /[, out, where, …])|Return the truth value of (x1 >= x2) element-wise.\n",
    "less(x1, x2, /[, out, where, casting, …])|Return the truth value of (x1 < x2) element-wise.\n",
    "less_equal(x1, x2, /[, out, where, casting, …])|Return the truth value of (x1 =< x2) element-wise.\n",
    "not_equal(x1, x2, /[, out, where, casting, …])|Return (x1 != x2) element-wise.\n",
    "equal(x1, x2, /[, out, where, casting, …])|Return (x1 == x2) element-wise.\n",
    "logical_and(x1, x2, /[, out, where, …])|Compute the truth value of x1 AND x2 element-wise.\n",
    "logical_or(x1, x2, /[, out, where, casting, …])|Compute the truth value of x1 OR x2 element-wise.\n",
    "logical_xor(x1, x2, /[, out, where, …])|Compute the truth value of x1 XOR x2, element-wise.\n",
    "logical_not(x, /[, out, where, casting, …])|Compute the truth value of NOT x element-wise.\n",
    "maximum(x1, x2, /[, out, where, casting, …])|Element-wise maximum of array elements.\n",
    "minimum(x1, x2, /[, out, where, casting, …])|Element-wise minimum of array elements.\n",
    "fmax(x1, x2, /[, out, where, casting, …])|Element-wise maximum of array elements.\n",
    "fmin(x1, x2, /[, out, where, casting, …])|Element-wise minimum of array elements.\n",
    "\n",
    "### Floating Point Functions:\n",
    "\n",
    "|Função|Descrição\n",
    "|---|---|\n",
    "isfinite(x, /[, out, where, casting, order, …])|Test element-wise for finiteness (not infinity or not Not a Number).\n",
    "isinf(x, /[, out, where, casting, order, …])|Test element-wise for positive or negative infinity.\n",
    "isnan(x, /[, out, where, casting, order, …])|Test element-wise for NaN and return result as a boolean array.\n",
    "isnat(x, /[, out, where, casting, order, …])|Test element-wise for NaT (not a time) and return result as a boolean array.\n",
    "fabs(x, /[, out, where, casting, order, …])|Compute the absolute values element-wise.\n",
    "signbit(x, /[, out, where, casting, order, …])|Returns element-wise True where signbit is set (less than zero).\n",
    "copysign(x1, x2, /[, out, where, casting, …])|Change the sign of x1 to that of x2, element-wise.\n",
    "nextafter(x1, x2, /[, out, where, casting, …])|Return the next floating-point value after x1 towards x2, element-wise.\n",
    "spacing(x, /[, out, where, casting, order, …])|Return the distance between x and the nearest adjacent number.\n",
    "modf(x[, out1, out2], / [[, out, where, …])|Return the fractional and integral parts of an array, element-wise.\n",
    "ldexp(x1, x2, /[, out, where, casting, …])|Returns x1 * 2**x2, element-wise.\n",
    "frexp(x[, out1, out2], / [[, out, where, …])|Decompose the elements of x into mantissa and twos exponent.\n",
    "fmod(x1, x2, /[, out, where, casting, …])|Return the element-wise remainder of division.\n",
    "floor(x, /[, out, where, casting, order, …])|Return the floor of the input, element-wise.\n",
    "ceil(x, /[, out, where, casting, order, …])|Return the ceiling of the input, element-wise.\n",
    "trunc(x, /[, out, where, casting, order, …])|Return the truncated value of the input, element-wise.\n",
    "\n"
   ]
  },
  {
   "cell_type": "markdown",
   "metadata": {},
   "source": [
    "## Operations between arrays of the same shape and number of elements"
   ]
  },
  {
   "cell_type": "code",
   "execution_count": null,
   "metadata": {},
   "outputs": [],
   "source": [
    "a = np.array([[1, 2], [3, 4]])\n",
    "a"
   ]
  },
  {
   "cell_type": "code",
   "execution_count": null,
   "metadata": {},
   "outputs": [],
   "source": [
    "b = np.array([[5, 6], [7, 8]])\n",
    "b"
   ]
  },
  {
   "cell_type": "code",
   "execution_count": null,
   "metadata": {},
   "outputs": [],
   "source": [
    "a * b"
   ]
  },
  {
   "cell_type": "markdown",
   "metadata": {},
   "source": [
    "## Operations between arrays with the different shapes"
   ]
  },
  {
   "cell_type": "code",
   "execution_count": null,
   "metadata": {},
   "outputs": [],
   "source": [
    "a = np.array([[1, 2], [3, 4]])\n",
    "a"
   ]
  },
  {
   "cell_type": "code",
   "execution_count": null,
   "metadata": {},
   "outputs": [],
   "source": [
    "b = np.array([5, 6])\n",
    "b"
   ]
  },
  {
   "cell_type": "code",
   "execution_count": null,
   "metadata": {},
   "outputs": [],
   "source": [
    "a - b"
   ]
  },
  {
   "cell_type": "code",
   "execution_count": null,
   "metadata": {},
   "outputs": [],
   "source": [
    "b - a"
   ]
  },
  {
   "cell_type": "markdown",
   "metadata": {},
   "source": [
    "## Slicing\n",
    "\n",
    "```javascript\n",
    "A[start:end:step] \n",
    "```"
   ]
  },
  {
   "cell_type": "code",
   "execution_count": null,
   "metadata": {},
   "outputs": [],
   "source": [
    "a = np.arange(10)\n",
    "a"
   ]
  },
  {
   "cell_type": "code",
   "execution_count": null,
   "metadata": {},
   "outputs": [],
   "source": [
    "a[0], a[2], a[-1]"
   ]
  },
  {
   "cell_type": "code",
   "execution_count": null,
   "metadata": {},
   "outputs": [],
   "source": [
    "arr = np.array([[ 0,  1,  2,  3,  4,  5],\n",
    "                [10, 11, 12, 13, 14, 15],\n",
    "                [20, 21, 22, 23, 24, 25],\n",
    "                [30, 31, 32, 33, 34, 35],\n",
    "                [40, 41, 42, 43, 44, 45],\n",
    "                [50, 51, 52, 53, 54, 55]])\n",
    "arr"
   ]
  },
  {
   "cell_type": "code",
   "execution_count": null,
   "metadata": {},
   "outputs": [],
   "source": [
    "arr[0,3:5]"
   ]
  },
  {
   "cell_type": "code",
   "execution_count": null,
   "metadata": {},
   "outputs": [],
   "source": [
    "arr[4:,4:]"
   ]
  },
  {
   "cell_type": "code",
   "execution_count": null,
   "metadata": {},
   "outputs": [],
   "source": [
    "arr[:,2]"
   ]
  },
  {
   "cell_type": "code",
   "execution_count": null,
   "metadata": {},
   "outputs": [],
   "source": [
    "arr[2::2, ::2]"
   ]
  },
  {
   "cell_type": "markdown",
   "metadata": {},
   "source": [
    "## Conditional selection"
   ]
  },
  {
   "cell_type": "code",
   "execution_count": null,
   "metadata": {},
   "outputs": [],
   "source": [
    "arr = np.array([[ 0,  1,  2,  3,  4,  5],\n",
    "                [10, 11, 12, 13, 14, 15],\n",
    "                [20, 21, 22, 23, 24, 25],\n",
    "                [30, 31, 32, 33, 34, 35],\n",
    "                [40, 41, 42, 43, 44, 45],\n",
    "                [50, 51, 52, 53, 54, 55]])\n",
    "arr"
   ]
  },
  {
   "cell_type": "code",
   "execution_count": null,
   "metadata": {},
   "outputs": [],
   "source": [
    "mask = (arr % 2) == 0\n",
    "mask"
   ]
  },
  {
   "cell_type": "code",
   "execution_count": null,
   "metadata": {},
   "outputs": [],
   "source": [
    "arr[mask]"
   ]
  },
  {
   "cell_type": "code",
   "execution_count": null,
   "metadata": {},
   "outputs": [],
   "source": [
    "mask1 = (arr % 10) == 0\n",
    "mask2 = (arr % 25) == 0\n",
    "arr[(mask1 & mask2)]"
   ]
  },
  {
   "cell_type": "code",
   "execution_count": null,
   "metadata": {},
   "outputs": [],
   "source": [
    "arr[(mask1 | mask2)]"
   ]
  },
  {
   "cell_type": "code",
   "execution_count": null,
   "metadata": {},
   "outputs": [],
   "source": [
    "mask3 = arr != 25"
   ]
  },
  {
   "cell_type": "code",
   "execution_count": null,
   "metadata": {},
   "outputs": [],
   "source": [
    "arr[((mask1 | mask2) & mask3)]"
   ]
  },
  {
   "cell_type": "code",
   "execution_count": null,
   "metadata": {},
   "outputs": [],
   "source": [
    "arr[np.where(np.logical_and(arr > 10, arr < 50))]"
   ]
  },
  {
   "cell_type": "code",
   "execution_count": null,
   "metadata": {},
   "outputs": [],
   "source": [
    "c"
   ]
  }
 ],
 "metadata": {
  "kernelspec": {
   "display_name": "Python 3",
   "language": "python",
   "name": "python3"
  },
  "language_info": {
   "codemirror_mode": {
    "name": "ipython",
    "version": 3
   },
   "file_extension": ".py",
   "mimetype": "text/x-python",
   "name": "python",
   "nbconvert_exporter": "python",
   "pygments_lexer": "ipython3",
   "version": "3.7.4"
  },
  "varInspector": {
   "cols": {
    "lenName": 16,
    "lenType": 16,
    "lenVar": 40
   },
   "kernels_config": {
    "python": {
     "delete_cmd_postfix": "",
     "delete_cmd_prefix": "del ",
     "library": "var_list.py",
     "varRefreshCmd": "print(var_dic_list())"
    },
    "r": {
     "delete_cmd_postfix": ") ",
     "delete_cmd_prefix": "rm(",
     "library": "var_list.r",
     "varRefreshCmd": "cat(var_dic_list()) "
    }
   },
   "types_to_exclude": [
    "module",
    "function",
    "builtin_function_or_method",
    "instance",
    "_Feature"
   ],
   "window_display": false
  }
 },
 "nbformat": 4,
 "nbformat_minor": 2
}
